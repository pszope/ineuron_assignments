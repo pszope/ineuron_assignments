{
 "cells": [
  {
   "cell_type": "markdown",
   "id": "35033f85",
   "metadata": {},
   "source": [
    "1. How many seconds are in an hour? Use the interactive interpreter as a calculator and multiply the number of seconds in a minute (60) by the number of minutes in an hour (also 60)."
   ]
  },
  {
   "cell_type": "code",
   "execution_count": 6,
   "id": "fd552230",
   "metadata": {},
   "outputs": [
    {
     "name": "stdout",
     "output_type": "stream",
     "text": [
      "3600\n"
     ]
    }
   ],
   "source": [
    "seconds_per_minute = 60\n",
    "minutes_per_hour = 60\n",
    "print(seconds_per_minute * minutes_per_hour)"
   ]
  },
  {
   "cell_type": "markdown",
   "id": "f4430b7f",
   "metadata": {},
   "source": [
    "2. Assign the result from the previous task (seconds in an hour) to a variable called seconds_per_hour."
   ]
  },
  {
   "cell_type": "code",
   "execution_count": 7,
   "id": "3ac48bec",
   "metadata": {},
   "outputs": [
    {
     "name": "stdout",
     "output_type": "stream",
     "text": [
      "3600\n"
     ]
    }
   ],
   "source": [
    "seconds_per_hour = seconds_per_minute * minutes_per_hour\n",
    "print(seconds_per_hour)"
   ]
  },
  {
   "cell_type": "markdown",
   "id": "e05a41b0",
   "metadata": {},
   "source": [
    "3. How many seconds do you think there are in a day? Make use of the variables seconds per hour and minutes per hour."
   ]
  },
  {
   "cell_type": "code",
   "execution_count": 9,
   "id": "3a8bb638",
   "metadata": {},
   "outputs": [
    {
     "name": "stdout",
     "output_type": "stream",
     "text": [
      "seconds_per_day: 86400\n",
      "seconds_per_day: 86400\n"
     ]
    }
   ],
   "source": [
    "seconds_per_day1 = seconds_per_hour * 24\n",
    "seconds_per_day2 = minutes_per_hour * 24 * 60\n",
    "\n",
    "print(\"seconds_per_day:\", seconds_per_day1)\n",
    "print(\"seconds_per_day:\", seconds_per_day2)"
   ]
  },
  {
   "cell_type": "markdown",
   "id": "fd26d5dc",
   "metadata": {},
   "source": [
    "4. Calculate seconds per day again, but this time save the result in a variable called seconds_per_day"
   ]
  },
  {
   "cell_type": "code",
   "execution_count": 10,
   "id": "fb57c191",
   "metadata": {},
   "outputs": [
    {
     "name": "stdout",
     "output_type": "stream",
     "text": [
      "seconds_per_day: 86400\n",
      "seconds_per_day: 86400\n"
     ]
    }
   ],
   "source": [
    "seconds_per_day1 = seconds_per_hour * 24\n",
    "seconds_per_day2 = minutes_per_hour * 24 * 60\n",
    "\n",
    "print(\"seconds_per_day:\", seconds_per_day1)\n",
    "print(\"seconds_per_day:\", seconds_per_day2)"
   ]
  },
  {
   "cell_type": "markdown",
   "id": "3d5590d6",
   "metadata": {},
   "source": [
    "5. Divide seconds_per_day by seconds_per_hour. Use floating-point (/) division."
   ]
  },
  {
   "cell_type": "code",
   "execution_count": 11,
   "id": "20f030f5",
   "metadata": {},
   "outputs": [
    {
     "name": "stdout",
     "output_type": "stream",
     "text": [
      "24.0\n"
     ]
    }
   ],
   "source": [
    "print(seconds_per_day1/seconds_per_hour)"
   ]
  },
  {
   "cell_type": "markdown",
   "id": "b16228e5",
   "metadata": {},
   "source": [
    "6. Divide seconds_per_day by seconds_per_hour, using integer (//) division. Did this number agree with the floating-point value from the previous question, aside from the final .0?"
   ]
  },
  {
   "cell_type": "code",
   "execution_count": 13,
   "id": "c32627d7",
   "metadata": {},
   "outputs": [
    {
     "name": "stdout",
     "output_type": "stream",
     "text": [
      "24\n",
      "Yes this number agree with the floating-point value from the previous question, aside from the final .0\n"
     ]
    }
   ],
   "source": [
    "print(seconds_per_day1//seconds_per_hour)\n",
    "print(\"Yes this number agree with the floating-point value from the previous question, aside from the final .0\")"
   ]
  },
  {
   "cell_type": "markdown",
   "id": "a7a7edd7",
   "metadata": {},
   "source": [
    "7. Write a generator, genPrimes, that returns the sequence of prime numbers on successive calls to its next() method: 2, 3, 5, 7, 11, ..."
   ]
  },
  {
   "cell_type": "code",
   "execution_count": 21,
   "id": "bc4eb1eb",
   "metadata": {},
   "outputs": [
    {
     "name": "stdout",
     "output_type": "stream",
     "text": [
      "2\n",
      "3\n",
      "5\n",
      "7\n",
      "11\n"
     ]
    }
   ],
   "source": [
    "def genPrimes():\n",
    "    n = 0\n",
    "    while True:\n",
    "        if n == 2 or n == 3 :\n",
    "            yield n\n",
    "        elif ((n-1)%6 == 0 or (n+1)%6 == 0) and n !=1:\n",
    "            yield n\n",
    "        n = n+1\n",
    "        \n",
    "result = genPrimes()\n",
    "for i in range(5):\n",
    "    print(next(result))"
   ]
  }
 ],
 "metadata": {
  "kernelspec": {
   "display_name": "Python 3 (ipykernel)",
   "language": "python",
   "name": "python3"
  },
  "language_info": {
   "codemirror_mode": {
    "name": "ipython",
    "version": 3
   },
   "file_extension": ".py",
   "mimetype": "text/x-python",
   "name": "python",
   "nbconvert_exporter": "python",
   "pygments_lexer": "ipython3",
   "version": "3.9.12"
  }
 },
 "nbformat": 4,
 "nbformat_minor": 5
}
