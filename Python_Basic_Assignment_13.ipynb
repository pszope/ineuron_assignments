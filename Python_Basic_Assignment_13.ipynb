{
 "cells": [
  {
   "cell_type": "markdown",
   "id": "d5d4d3d0",
   "metadata": {},
   "source": [
    "1.What advantages do Excel spreadsheets have over CSV spreadsheets?"
   ]
  },
  {
   "cell_type": "raw",
   "id": "c45e5da7",
   "metadata": {},
   "source": [
    "Ans:\n",
    "\n",
    "Excel is more superior when compared with the CSV file format; thus, CSV consumes less amount of file size when the user is importing data; it is a much faster format compared to excel. CSV does not manipulate data and stores it as-is. Excel also allows the user the add-in feature."
   ]
  },
  {
   "cell_type": "markdown",
   "id": "75b9a5e3",
   "metadata": {},
   "source": [
    "2.What do you pass to csv.reader() and csv.writer() to create reader and writer objects?"
   ]
  },
  {
   "cell_type": "markdown",
   "id": "6303a560",
   "metadata": {},
   "source": [
    "Ans:\n",
    "\n",
    "import csv\n",
    "file_csv = open('abc.csv')\n",
    "filereader = csv.reader(file_csv)\n",
    "fileData = list(filereader)\n",
    "fileData"
   ]
  },
  {
   "cell_type": "markdown",
   "id": "4752ce4b",
   "metadata": {},
   "source": [
    "3.What modes do File objects for reader and writer objects need to be opened in?"
   ]
  },
  {
   "cell_type": "markdown",
   "id": "f10d78bd",
   "metadata": {},
   "source": [
    "Ans:\n",
    "    \n",
    "File objects need to be opened in read-binary ('rb') for Reader objects and write-binary ('wb') for Writer objects"
   ]
  },
  {
   "cell_type": "markdown",
   "id": "32b910eb",
   "metadata": {},
   "source": [
    "4.What method takes a list argument and writes it to a CSV file?"
   ]
  },
  {
   "cell_type": "markdown",
   "id": "e43651a8",
   "metadata": {},
   "source": [
    "Ans:\n",
    "    \n",
    "writerow() method"
   ]
  },
  {
   "cell_type": "markdown",
   "id": "a485dfe1",
   "metadata": {},
   "source": [
    "5.What do the keyword arguments delimiter and line terminator do?"
   ]
  },
  {
   "cell_type": "markdown",
   "id": "481b2568",
   "metadata": {},
   "source": [
    "Ans:\n",
    "\n",
    "The delimiter argument changes the string used to separate cells in a row.\n",
    "The line terminator argument changes the string used to separate rows."
   ]
  },
  {
   "cell_type": "markdown",
   "id": "de046eda",
   "metadata": {},
   "source": [
    "6.What function takes a string of JSON data and returns a Python data structure?"
   ]
  },
  {
   "cell_type": "markdown",
   "id": "7bd9426f",
   "metadata": {},
   "source": [
    "Ans:\n",
    "\n",
    "json.loads()"
   ]
  },
  {
   "cell_type": "markdown",
   "id": "f28ddeca",
   "metadata": {},
   "source": [
    "7.What function takes a Python data structure and returns a string of JSON data?"
   ]
  },
  {
   "cell_type": "markdown",
   "id": "1ce91d45",
   "metadata": {},
   "source": [
    "Ans:\n",
    "    \n",
    "json.dumps()"
   ]
  }
 ],
 "metadata": {
  "kernelspec": {
   "display_name": "Python 3 (ipykernel)",
   "language": "python",
   "name": "python3"
  },
  "language_info": {
   "codemirror_mode": {
    "name": "ipython",
    "version": 3
   },
   "file_extension": ".py",
   "mimetype": "text/x-python",
   "name": "python",
   "nbconvert_exporter": "python",
   "pygments_lexer": "ipython3",
   "version": "3.9.12"
  }
 },
 "nbformat": 4,
 "nbformat_minor": 5
}
