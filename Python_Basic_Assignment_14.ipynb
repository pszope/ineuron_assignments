{
 "cells": [
  {
   "cell_type": "markdown",
   "id": "bd6ccf2f",
   "metadata": {},
   "source": [
    "1.What does RGBA stand for?"
   ]
  },
  {
   "cell_type": "markdown",
   "id": "cf620988",
   "metadata": {},
   "source": [
    "Ans:\n",
    "    \n",
    "RGBA stands for red, green, blue, and alpha (transparency) in the color\n",
    "An RGBA value is a tuple of 4 integers, each ranging from 0 to 255. The four integers correspond to the amount of red, green, blue, and alpha (transparency) in the color"
   ]
  },
  {
   "cell_type": "markdown",
   "id": "77773897",
   "metadata": {},
   "source": [
    "2.From the Pillow module, how do you get the RGBA value of any images?"
   ]
  },
  {
   "cell_type": "code",
   "execution_count": null,
   "id": "967f2965",
   "metadata": {},
   "outputs": [],
   "source": [
    "#Ans:\n",
    "    \n",
    "from PIL import ImageColor\n",
    "ImageColor.getcolor('green', 'RGBA')\n",
    "ImageColor.getcolor('red', 'RGBA')"
   ]
  },
  {
   "cell_type": "markdown",
   "id": "01f44c4b",
   "metadata": {},
   "source": [
    "3.What is a box tuple, and how does it work?"
   ]
  },
  {
   "cell_type": "markdown",
   "id": "baa90b5d",
   "metadata": {},
   "source": [
    "Ans:\n",
    "    \n",
    "A box tuple is a tuple value of four integers: the left edge x-coordinate, the top edge y-coordinate, the width, and the height, respectively"
   ]
  },
  {
   "cell_type": "markdown",
   "id": "59112a63",
   "metadata": {},
   "source": [
    "4.Use your image and load in notebook then, How can you find out the width and height of an Image object?"
   ]
  },
  {
   "cell_type": "code",
   "execution_count": 1,
   "id": "5b616eec",
   "metadata": {},
   "outputs": [
    {
     "data": {
      "text/plain": [
       "(195, 130)"
      ]
     },
     "execution_count": 1,
     "metadata": {},
     "output_type": "execute_result"
    }
   ],
   "source": [
    "#Ans:\n",
    "    \n",
    "from PIL import Image\n",
    "myImage = Image.open('images.jpeg')\n",
    "width,height = myImage.size\n",
    "width,height"
   ]
  },
  {
   "cell_type": "markdown",
   "id": "23195b0e",
   "metadata": {},
   "source": [
    "5.What method would you call to get Image object for a 100×100 image, excluding the lower-left quarter of it?"
   ]
  },
  {
   "cell_type": "code",
   "execution_count": null,
   "id": "67999109",
   "metadata": {},
   "outputs": [],
   "source": [
    "Ans:\n",
    "    \n",
    "ImageObject.crop((0, 50, 50, 50))"
   ]
  },
  {
   "cell_type": "markdown",
   "id": "7d99b945",
   "metadata": {},
   "source": [
    "6.After making changes to an Image object, how could you save it as an image file?"
   ]
  },
  {
   "cell_type": "markdown",
   "id": "7e3b3694",
   "metadata": {},
   "source": [
    "Ans:\n",
    "    \n",
    "By Calling the imageObj.save('new_filename.png') method of the Image object."
   ]
  },
  {
   "cell_type": "markdown",
   "id": "113abd25",
   "metadata": {},
   "source": [
    "7.What module contains Pillow’s shape-drawing code?"
   ]
  },
  {
   "cell_type": "markdown",
   "id": "aa4b6d03",
   "metadata": {},
   "source": [
    "Ans:\n",
    "    \n",
    "The ImageDraw module contains code to draw on images"
   ]
  },
  {
   "cell_type": "markdown",
   "id": "61c0ff6c",
   "metadata": {},
   "source": [
    "8.Image objects do not have drawing methods. What kind of object does? How do you get this kind of object?"
   ]
  },
  {
   "cell_type": "markdown",
   "id": "0741ae68",
   "metadata": {},
   "source": [
    "Ans:\n",
    "    \n",
    "ImageDraw objects have shape-drawing methods such as point(), line(), or rectangle(). They are returned by passing the Image object to the ImageDraw.Draw() function"
   ]
  }
 ],
 "metadata": {
  "kernelspec": {
   "display_name": "Python 3 (ipykernel)",
   "language": "python",
   "name": "python3"
  },
  "language_info": {
   "codemirror_mode": {
    "name": "ipython",
    "version": 3
   },
   "file_extension": ".py",
   "mimetype": "text/x-python",
   "name": "python",
   "nbconvert_exporter": "python",
   "pygments_lexer": "ipython3",
   "version": "3.9.12"
  }
 },
 "nbformat": 4,
 "nbformat_minor": 5
}
