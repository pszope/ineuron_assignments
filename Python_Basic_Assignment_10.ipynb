{
 "cells": [
  {
   "cell_type": "markdown",
   "id": "bb72c141",
   "metadata": {},
   "source": [
    "1. How do you distinguish between shutil.copy() and shutil.copytree()?"
   ]
  },
  {
   "cell_type": "raw",
   "id": "a10e1614",
   "metadata": {},
   "source": [
    "Ans:\n",
    "\n",
    "shutil.copy() will copy a single file\n",
    "shutil.copytree() will copy an entire folder and every folder and file contained in it."
   ]
  },
  {
   "cell_type": "markdown",
   "id": "eedfb845",
   "metadata": {},
   "source": [
    "2. What function is used to rename files??"
   ]
  },
  {
   "cell_type": "markdown",
   "id": "972a0a89",
   "metadata": {},
   "source": [
    "Ans:\n",
    "\n",
    "import os\n",
    "os.rename(\"text.txt\",\"testnew.txt\")"
   ]
  },
  {
   "cell_type": "markdown",
   "id": "ae4466d2",
   "metadata": {},
   "source": [
    "3. What is the difference between the delete functions in the send2trash and shutil modules?"
   ]
  },
  {
   "cell_type": "raw",
   "id": "1ce2f71b",
   "metadata": {},
   "source": [
    "Ans:\n",
    "\n",
    "send2trash functions will move a file or folder to the recycle bin\n",
    "shutil functions will permanently delete files and folders"
   ]
  },
  {
   "cell_type": "markdown",
   "id": "3ac1a9a3",
   "metadata": {},
   "source": [
    "4. ZipFile objects have a close() method just like File objects’ close() method. What ZipFile method is equivalent to File objects’ open() method?"
   ]
  },
  {
   "cell_type": "markdown",
   "id": "144daea3",
   "metadata": {},
   "source": [
    "Ans:\n",
    "\n",
    "The zipfile.ZipFile()"
   ]
  },
  {
   "cell_type": "markdown",
   "id": "cbf87325",
   "metadata": {},
   "source": [
    "5. Create a programme that searches a folder tree for files with a certain file extension (such as .pdf or .jpg). Copy these files from whatever location they are in to a new folder."
   ]
  },
  {
   "cell_type": "code",
   "execution_count": null,
   "id": "3ab5b2b0",
   "metadata": {},
   "outputs": [],
   "source": [
    "import os, shutil\n",
    "\n",
    "def filteredCopy(folder, extensions, desFolder):\n",
    "    folder = os.path.abspath(folder)\n",
    "    desFolder = os.path.abspath(desFolder)\n",
    "    print('Looking in', folder, 'for files with extensions of', ', '.join(extensions))\n",
    "    for foldername, subfolders, filenames in os.walk(folder):\n",
    "        for filename in filenames:\n",
    "            name, extension = os.path.splitext(filename)\n",
    "            if extension in extensions:\n",
    "                fileAbsPath = foldername + os.path.sep + filename\n",
    "                print('Coping', fileAbsPath, 'to', desFolder)\n",
    "                shutil.copy(fileAbsPath, desFolder)\n",
    "extensions = ['.php', '.py']\n",
    "folder = 'randomFolder'\n",
    "desFolder = 'selectiveFolder'\n",
    "filteredCopy(folder, extensions, desFolder)\n"
   ]
  }
 ],
 "metadata": {
  "kernelspec": {
   "display_name": "Python 3 (ipykernel)",
   "language": "python",
   "name": "python3"
  },
  "language_info": {
   "codemirror_mode": {
    "name": "ipython",
    "version": 3
   },
   "file_extension": ".py",
   "mimetype": "text/x-python",
   "name": "python",
   "nbconvert_exporter": "python",
   "pygments_lexer": "ipython3",
   "version": "3.9.12"
  }
 },
 "nbformat": 4,
 "nbformat_minor": 5
}
