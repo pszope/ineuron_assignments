{
 "cells": [
  {
   "cell_type": "markdown",
   "id": "be930184",
   "metadata": {},
   "source": [
    "1. Create an assert statement that throws an AssertionError if the variable spam is a negative integer."
   ]
  },
  {
   "cell_type": "markdown",
   "id": "87e5bb98",
   "metadata": {},
   "source": [
    "Ans:\n",
    "    \n",
    "assert spam >= 10, 'The spam variable is less than 10.'"
   ]
  },
  {
   "cell_type": "markdown",
   "id": "4fcd0dcc",
   "metadata": {},
   "source": [
    "2. Write an assert statement that triggers an AssertionError if the variables eggs and bacon contain strings that are the same as each other, even if their cases are different (that is, 'hello' and 'hello' are considered the same, and 'goodbye' and 'GOODbye' are also considered the same)."
   ]
  },
  {
   "cell_type": "markdown",
   "id": "d4543561",
   "metadata": {},
   "source": [
    "Ans:\n",
    "\n",
    "assert eggs.lower() != bacon.lower(), 'The eggs and bacon variables are the same!'   OR\n",
    "assert eggs.upper() != bacon.upper(), 'The eggs and bacon variables are the same!'"
   ]
  },
  {
   "cell_type": "markdown",
   "id": "39318506",
   "metadata": {},
   "source": [
    "3. Create an assert statement that throws an AssertionError every time."
   ]
  },
  {
   "cell_type": "markdown",
   "id": "8f450a48",
   "metadata": {},
   "source": [
    "Ans:\n",
    "\n",
    "assert False, 'This assertion always triggers.'"
   ]
  },
  {
   "cell_type": "markdown",
   "id": "563e7a17",
   "metadata": {},
   "source": [
    "4. What are the two lines that must be present in your software in order to call logging.debug()?"
   ]
  },
  {
   "cell_type": "markdown",
   "id": "ce572e2c",
   "metadata": {},
   "source": [
    "Ans:\n",
    "\n",
    "To be able to call logging.debug(), you must have these two lines at the start of your program:\n",
    "\n",
    "\n",
    "import logging\n",
    "logging.basicConfig(level=logging.DEBUG, format=' %(asctime)s -\n",
    "%(levelname)s - %(message)s')"
   ]
  },
  {
   "cell_type": "markdown",
   "id": "69691702",
   "metadata": {},
   "source": [
    "5. What are the two lines that your program must have in order to have logging.debug() send a logging message to a file named programLog.txt?"
   ]
  },
  {
   "cell_type": "raw",
   "id": "14e5e773",
   "metadata": {},
   "source": [
    "Ans:\n",
    "\n",
    "To be able to send logging messages to a file named programLog.txt with logging.debug(), you must have these two lines at the start of your program:\n",
    "\n",
    "\n",
    "import logging\n",
    ">>> logging.basicConfig(filename='programLog.txt', level=logging.DEBUG,\n",
    "format=' %(asctime)s - %(levelname)s - %(message)s')"
   ]
  },
  {
   "cell_type": "markdown",
   "id": "988587a0",
   "metadata": {},
   "source": [
    "6. What are the five levels of logging?"
   ]
  },
  {
   "cell_type": "code",
   "execution_count": null,
   "id": "b960b440",
   "metadata": {},
   "outputs": [],
   "source": [
    "Ans:\n",
    "    \n",
    "There are Five levels of logging:\n",
    "    1. Debug\n",
    "    2. Info\n",
    "    3. Warning\n",
    "    4. Error\n",
    "    5. Critical"
   ]
  },
  {
   "cell_type": "markdown",
   "id": "9fe96762",
   "metadata": {},
   "source": [
    "7. What line of code would you add to your software to disable all logging messages?"
   ]
  },
  {
   "cell_type": "code",
   "execution_count": null,
   "id": "031faf2b",
   "metadata": {},
   "outputs": [],
   "source": [
    "Ans: \n",
    "    \n",
    "logging.disable(logging.DEBUG)"
   ]
  },
  {
   "cell_type": "markdown",
   "id": "ba10ddd8",
   "metadata": {},
   "source": [
    "8.Why is using logging messages better than using print() to display the same message?"
   ]
  },
  {
   "cell_type": "raw",
   "id": "ca05a004",
   "metadata": {},
   "source": [
    "Ans:\n",
    "\n",
    "1. Logging has different levels of severity that allows you to display log messages according to the level you want. A print statement does not give you that flexibility\n",
    "\n",
    "2. Logging allows you to direct the log messages to separate files that can then be used for post analysis while the same is not easily available with print statement\n",
    "\n",
    "3. You can set different log levels at individual code file level as well - some files may have INFO level while some may have DEBUG level"
   ]
  },
  {
   "cell_type": "markdown",
   "id": "3c7a7f06",
   "metadata": {},
   "source": [
    "9. What are the differences between the Step Over, Step In, and Step Out buttons in the debugger?"
   ]
  },
  {
   "cell_type": "markdown",
   "id": "f4217af2",
   "metadata": {},
   "source": [
    "Ans:\n",
    "    \n",
    "Step Over command:\n",
    "\n",
    "This command lets the application execute the next action. If the action involves a call to an operation, it does not step into its implementation (it steps over it instead).\n",
    "Step Into command:\n",
    "\n",
    "This command lets the application execute the next action. If the action involves a call to an operation, it steps into its implementation and breaks the execution on the first action of that implementation.\n",
    "Step Out command:\n",
    "\n",
    "This command lets the application execute until the currently executed operation implementation is returned."
   ]
  },
  {
   "cell_type": "markdown",
   "id": "8b0a5d3e",
   "metadata": {},
   "source": [
    "10.After you click Continue, when will the debugger stop?"
   ]
  },
  {
   "cell_type": "markdown",
   "id": "3b437ec3",
   "metadata": {},
   "source": [
    "Ans:\n",
    "    \n",
    "At the next breakpoint or at the end of the program"
   ]
  },
  {
   "cell_type": "markdown",
   "id": "66908f21",
   "metadata": {},
   "source": [
    "11. What is the concept of a breakpoint?"
   ]
  },
  {
   "cell_type": "markdown",
   "id": "e239b093",
   "metadata": {},
   "source": [
    "Ans:\n",
    "\n",
    "A breakpoint is an intentional stopping or pausing place in a program, put in place for debugging purposes. It is also sometimes simply referred to as a pause."
   ]
  }
 ],
 "metadata": {
  "kernelspec": {
   "display_name": "Python 3 (ipykernel)",
   "language": "python",
   "name": "python3"
  },
  "language_info": {
   "codemirror_mode": {
    "name": "ipython",
    "version": 3
   },
   "file_extension": ".py",
   "mimetype": "text/x-python",
   "name": "python",
   "nbconvert_exporter": "python",
   "pygments_lexer": "ipython3",
   "version": "3.9.12"
  }
 },
 "nbformat": 4,
 "nbformat_minor": 5
}
